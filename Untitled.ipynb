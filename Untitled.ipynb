{
 "cells": [
  {
   "cell_type": "code",
   "execution_count": 19,
   "id": "b83a33b8",
   "metadata": {},
   "outputs": [
    {
     "name": "stdout",
     "output_type": "stream",
     "text": [
      "5 5\n"
     ]
    }
   ],
   "source": [
    "x=5\n",
    "print(x, x)"
   ]
  },
  {
   "cell_type": "code",
   "execution_count": 15,
   "id": "bc843843",
   "metadata": {},
   "outputs": [
    {
     "name": "stdout",
     "output_type": "stream",
     "text": [
      "Hello, world!\n",
      "\n",
      "Suppose two swallows \"carry\" it together.\n",
      "African or \"European\" swallows?\n"
     ]
    }
   ],
   "source": [
    "print(\"Hello, world!\") \n",
    "print()\n",
    "print(\"Suppose two swallows \\\"carry\\\" it together.\")\n",
    "print('African or \"European\" swallows?')\n"
   ]
  },
  {
   "cell_type": "code",
   "execution_count": 17,
   "id": "6362aa69",
   "metadata": {},
   "outputs": [
    {
     "data": {
      "text/plain": [
       "100"
      ]
     },
     "execution_count": 17,
     "metadata": {},
     "output_type": "execute_result"
    }
   ],
   "source": [
    "10**2"
   ]
  },
  {
   "cell_type": "code",
   "execution_count": 1,
   "id": "f025c6c2",
   "metadata": {},
   "outputs": [
    {
     "data": {
      "text/plain": [
       "'hellohellohello'"
      ]
     },
     "execution_count": 1,
     "metadata": {},
     "output_type": "execute_result"
    }
   ],
   "source": [
    "\"hello\" * 3"
   ]
  },
  {
   "cell_type": "code",
   "execution_count": 5,
   "id": "1aa36e31",
   "metadata": {},
   "outputs": [
    {
     "name": "stdout",
     "output_type": "stream",
     "text": [
      "0\n",
      "2\n",
      "4\n",
      "6\n",
      "8\n"
     ]
    }
   ],
   "source": [
    "for i in range(0, 10, 2):\n",
    "    print(i)"
   ]
  },
  {
   "cell_type": "code",
   "execution_count": 10,
   "id": "d4038c7a",
   "metadata": {},
   "outputs": [
    {
     "name": "stdout",
     "output_type": "stream",
     "text": [
      "....1\n",
      "...2\n",
      "..3\n",
      ".4\n",
      "5\n"
     ]
    }
   ],
   "source": [
    "for line in range(1, 6):\n",
    "    print((5 - line) * \".\" + str(line))\n"
   ]
  },
  {
   "cell_type": "code",
   "execution_count": 27,
   "id": "2e259f53",
   "metadata": {},
   "outputs": [
    {
     "name": "stdout",
     "output_type": "stream",
     "text": [
      "hello thereana\n",
      "hello there ana\n"
     ]
    }
   ],
   "source": [
    "hi = \"hello there\"\n",
    "name = \"ana\"\n",
    "greet = hi + name\n",
    "print(greet)\n",
    "greeting = hi + \" \" + name\n",
    "print(greeting)"
   ]
  },
  {
   "cell_type": "code",
   "execution_count": 31,
   "id": "b3dd57bc",
   "metadata": {},
   "outputs": [
    {
     "name": "stdout",
     "output_type": "stream",
     "text": [
      "1\n",
      "my fav num is .x = 1\n",
      "my fav num is . x = 1\n",
      "my fav num is . x = 1\n",
      "my fav num is2. x = 2\n"
     ]
    }
   ],
   "source": [
    "x = 1\n",
    "print(x)\n",
    "x_str = str(x+1)\n",
    "print(\"my fav num is .x =\", x)\n",
    "print(\"my fav num is .\", \"x =\", x)\n",
    "print(\"my fav num is\", \".\", \"x =\", x)\n",
    "print(\"my fav num is\" + x_str + \". \" + \"x = \" + x_str)"
   ]
  },
  {
   "cell_type": "code",
   "execution_count": 14,
   "id": "6451ec34",
   "metadata": {},
   "outputs": [
    {
     "name": "stdout",
     "output_type": "stream",
     "text": [
      "....3\n",
      "...4\n"
     ]
    }
   ],
   "source": [
    "line = 3\n",
    "print(4*\".\" +str(line))\n",
    "line1 = str(4)\n",
    "print(3*\".\"+line1)"
   ]
  },
  {
   "cell_type": "code",
   "execution_count": 3,
   "id": "21970ae0",
   "metadata": {},
   "outputs": [
    {
     "name": "stdout",
     "output_type": "stream",
     "text": [
      "False\n",
      "False\n"
     ]
    }
   ],
   "source": [
    "pset_time = 15\n",
    "sleep_time = 8 \n",
    "print(sleep_time > pset_time)\n",
    "derive = True \n",
    "drink = False\n",
    "both = drink and derive\n",
    "print(both)"
   ]
  },
  {
   "cell_type": "code",
   "execution_count": 4,
   "id": "5cfd6640",
   "metadata": {},
   "outputs": [
    {
     "name": "stdout",
     "output_type": "stream",
     "text": [
      "0\n",
      "1\n",
      "2\n",
      "3\n",
      "4\n"
     ]
    }
   ],
   "source": [
    "n = 0\n",
    "while n < 5:\n",
    "    print(n) \n",
    "    n = n+1\n"
   ]
  },
  {
   "cell_type": "code",
   "execution_count": 5,
   "id": "ffaf4af7",
   "metadata": {},
   "outputs": [
    {
     "name": "stdout",
     "output_type": "stream",
     "text": [
      "0\n",
      "1\n",
      "2\n",
      "3\n",
      "4\n"
     ]
    }
   ],
   "source": [
    "for n in range(5):\n",
    "    print(n)\n"
   ]
  },
  {
   "cell_type": "code",
   "execution_count": 25,
   "id": "206a54f1",
   "metadata": {},
   "outputs": [
    {
     "name": "stdout",
     "output_type": "stream",
     "text": [
      "5\n"
     ]
    }
   ],
   "source": [
    "mysum = 0\n",
    "for i in range(5, 11, 2):\n",
    "    mysum += i # Comment this line and see\n",
    "    if mysum == 5:\n",
    "        break\n",
    "        mysum += 1     \n",
    "print(mysum)"
   ]
  },
  {
   "cell_type": "code",
   "execution_count": 9,
   "id": "c010b661",
   "metadata": {},
   "outputs": [
    {
     "name": "stdout",
     "output_type": "stream",
     "text": [
      "1\n",
      "3\n"
     ]
    }
   ],
   "source": [
    "def quotient_and_remainder(x, y):\n",
    "    q = x // y\n",
    "    r = x % y \n",
    "    return (q, r)\n",
    "(quot, rem) = quotient_and_remainder(8,5)\n",
    "print(quot)\n",
    "print(rem)"
   ]
  },
  {
   "cell_type": "code",
   "execution_count": 26,
   "id": "876ee9a2",
   "metadata": {},
   "outputs": [
    {
     "name": "stdout",
     "output_type": "stream",
     "text": [
      "(1, 2, 3, 4, 5)\n",
      "(1, 2, 3)\n",
      "<class 'tuple'>\n",
      "<class 'int'>\n"
     ]
    }
   ],
   "source": [
    "# Creating a tuple   \n",
    "my_tuple = (1, 2, 3, 4, 5) \n",
    "print(my_tuple) # Output: (1, 2, 3, 4, 5)\n",
    "my_tuple = 1, 2, 3      \n",
    "print(my_tuple) # Output: (1, 2, 3)\n",
    "single_tuple = (5,) # Note the comma print(type(single_tuple))\n",
    "print(type(single_tuple))\n",
    "not_a_tuple = (5) \n",
    "print(type(not_a_tuple)) # Output: <class 'int'>"
   ]
  },
  {
   "cell_type": "code",
   "execution_count": 17,
   "id": "2f150a00",
   "metadata": {},
   "outputs": [
    {
     "name": "stdout",
     "output_type": "stream",
     "text": [
      "[1, 2, 3, 4, 5]\n",
      "[10, 'hello', 3.14, True]\n",
      "[]\n"
     ]
    }
   ],
   "source": [
    "# Creating a list   \n",
    "my_list = [1, 2, 3, 4, 5]    \n",
    "print(my_list) # Output: [1, 2, 3, 4, 5]\n",
    "mixed_list = [10, \"hello\", 3.14, True]  \n",
    "print(mixed_list) # Output: [10, 'hello', 3.14, True]\n",
    "empty_list1 = []   \n",
    "empty_list2 = list()\n",
    "print(empty_list2)"
   ]
  },
  {
   "cell_type": "code",
   "execution_count": 13,
   "id": "cc2b241e",
   "metadata": {},
   "outputs": [
    {
     "name": "stdout",
     "output_type": "stream",
     "text": [
      "[2, 1, 3]\n",
      "[2, 5, 3]\n"
     ]
    }
   ],
   "source": [
    "L = [2, 1, 3]\n",
    "print(L)\n",
    "L[1] = 5\n",
    "print(L)"
   ]
  },
  {
   "cell_type": "code",
   "execution_count": 14,
   "id": "4569e77a",
   "metadata": {},
   "outputs": [
    {
     "name": "stdout",
     "output_type": "stream",
     "text": [
      "10\n",
      "50\n",
      "[20, 30, 40]\n",
      "[10, 20, 30]\n",
      "[10, 30, 50]\n"
     ]
    }
   ],
   "source": [
    "my_list = [10, 20, 30, 40, 50]      \n",
    "print(my_list[0]) # Output: 10 (first element)                  \n",
    "print(my_list[-1]) # Output: 50 (last element)\n",
    "print(my_list[1:4])   # Output: [20, 30, 40]    \n",
    "print(my_list[:3]) # Output: [10, 20, 30] (first 3 elements) \n",
    "print(my_list[::2]) # Output: [10, 30, 50] (every second element)\n"
   ]
  },
  {
   "cell_type": "code",
   "execution_count": 20,
   "id": "abb1fe88",
   "metadata": {},
   "outputs": [
    {
     "name": "stdout",
     "output_type": "stream",
     "text": [
      "[2, 1, 3, 4, 5, 6]\n",
      "[2, 1, 3, 0, 6]\n"
     ]
    }
   ],
   "source": [
    "L1 = [2, 1, 3]\n",
    "L2 = [4, 5, 6]\n",
    "L3 = L1 + L2\n",
    "print(L3)\n",
    "L1.extend([0, 6])\n",
    "print(L1)"
   ]
  },
  {
   "cell_type": "code",
   "execution_count": 27,
   "id": "4570c740",
   "metadata": {},
   "outputs": [
    {
     "name": "stdout",
     "output_type": "stream",
     "text": [
      "inside is_even\n"
     ]
    },
    {
     "data": {
      "text/plain": [
       "True"
      ]
     },
     "execution_count": 27,
     "metadata": {},
     "output_type": "execute_result"
    }
   ],
   "source": [
    "# Function\n",
    "def is_even(i):\n",
    "    print(\"inside is_even\")\n",
    "    return i%2 == 0\n",
    "is_even(4)"
   ]
  },
  {
   "cell_type": "code",
   "execution_count": 28,
   "id": "e70af91d",
   "metadata": {},
   "outputs": [
    {
     "name": "stdout",
     "output_type": "stream",
     "text": [
      "Enter the number: 11\n",
      "inside is_even\n"
     ]
    },
    {
     "data": {
      "text/plain": [
       "False"
      ]
     },
     "execution_count": 28,
     "metadata": {},
     "output_type": "execute_result"
    }
   ],
   "source": [
    "# Function\n",
    "def is_even(i):\n",
    "    return i%2 == 0\n",
    "j = int(input(\"Enter the number: \"))  #\n",
    "print(\"inside is_even\")\n",
    "is_even(j)"
   ]
  },
  {
   "cell_type": "code",
   "execution_count": 28,
   "id": "144003e6",
   "metadata": {},
   "outputs": [
    {
     "name": "stdout",
     "output_type": "stream",
     "text": [
      "2\n",
      "5\n"
     ]
    }
   ],
   "source": [
    "def f(y):\n",
    "    x = 1\n",
    "    x +=1\n",
    "    print(x)\n",
    "x = 5\n",
    "f(x)\n",
    "print(x)"
   ]
  },
  {
   "cell_type": "code",
   "execution_count": 30,
   "id": "b0ce460e",
   "metadata": {},
   "outputs": [
    {
     "name": "stdout",
     "output_type": "stream",
     "text": [
      "Alice\n",
      "25\n",
      "Bob\n",
      "Mathematics\n"
     ]
    }
   ],
   "source": [
    "# Using curly braces\n",
    "student = {\n",
    "    \"name\": \"Alice\",\n",
    "    \"age\": 25,\n",
    "    \"major\": \"Computer Science\"\n",
    "}\n",
    "\n",
    "# Using the dict() function\n",
    "student2 = dict(name=\"Bob\", age=22, major=\"Mathematics\")\n",
    "print(student[\"name\"]) # Alice \n",
    "print(student.get(\"age\")) # 25\n",
    "print(student2[\"name\"])  \n",
    "print(student2.get(\"major\"))"
   ]
  },
  {
   "cell_type": "code",
   "execution_count": 5,
   "id": "b8b3a8d1",
   "metadata": {},
   "outputs": [
    {
     "name": "stdout",
     "output_type": "stream",
     "text": [
      "<__main__.Car object at 0x0000015D3B88A430>\n",
      "Toyota\n",
      "Car: Toyota Corolla\n"
     ]
    }
   ],
   "source": [
    "#   An object is created from a class.\n",
    "class Car:\n",
    "    def __init__(self, brand, model):\n",
    "        self.brand = brand  # Attribute\n",
    "        self.model = model  # Attribute\n",
    "\n",
    "    def display_info(self):  # Method\n",
    "        return f\"Car: {self.brand} {self.model}\"\n",
    "\n",
    "# Creating an object (instance of the Car class)\n",
    "my_car = Car(\"Toyota\", \"Corolla\")\n",
    "\n",
    "print(my_car.brand)         # Output: Toyota\n",
    "print(my_car.display_info()) # Output: Car: Toyota Corolla"
   ]
  },
  {
   "cell_type": "code",
   "execution_count": 30,
   "id": "d05ae2cf",
   "metadata": {},
   "outputs": [
    {
     "name": "stdout",
     "output_type": "stream",
     "text": [
      "Car: Toyota Corolla\n"
     ]
    }
   ],
   "source": [
    "class Car:\n",
    "    def __init__(self, brand, model):\n",
    "        self.brand = brand\n",
    "        self.model = model\n",
    "    \n",
    "    def display(self):\n",
    "        print(f\"Car: {self.brand} {self.model}\")\n",
    "\n",
    "my_car = Car(\"Toyota\", \"Corolla\")\n",
    "my_car.display()\n"
   ]
  },
  {
   "cell_type": "code",
   "execution_count": 6,
   "id": "511d816e",
   "metadata": {},
   "outputs": [
    {
     "name": "stdout",
     "output_type": "stream",
     "text": [
      "<class 'int'>\n",
      "<class 'str'>\n",
      "<class 'list'>\n"
     ]
    }
   ],
   "source": [
    "x = 10\n",
    "print(type(x))  # Output: <class 'int'>\n",
    "\n",
    "y = \"Hello\"\n",
    "print(type(y))  # Output: <class 'str'>\n",
    "\n",
    "z = [1, 2, 3]\n",
    "print(type(z))  # Output: <class 'list'>"
   ]
  },
  {
   "cell_type": "code",
   "execution_count": 14,
   "id": "4f695089",
   "metadata": {},
   "outputs": [
    {
     "name": "stdout",
     "output_type": "stream",
     "text": [
      "[2, 3, 6, 3, 7, 0]\n"
     ]
    }
   ],
   "source": [
    "L = [2,1,3,6,3,7,0] # do below in order \n",
    "L.remove(3) \n",
    "#del(L[1])\n",
    "#L.pop(1)\n",
    "print(L)         \n",
    "  "
   ]
  },
  {
   "cell_type": "code",
   "execution_count": 1,
   "id": "adf40572",
   "metadata": {},
   "outputs": [
    {
     "name": "stdout",
     "output_type": "stream",
     "text": [
      "2\n",
      "5\n"
     ]
    }
   ],
   "source": [
    "def f(y):\n",
    "    x = 1\n",
    "    x += 1\n",
    "    print (x)\n",
    "x = 5\n",
    "f(x)\n",
    "print(x)"
   ]
  },
  {
   "cell_type": "code",
   "execution_count": 2,
   "id": "f10683c0",
   "metadata": {},
   "outputs": [
    {
     "name": "stdout",
     "output_type": "stream",
     "text": [
      "5\n",
      "6\n",
      "5\n"
     ]
    }
   ],
   "source": [
    "def g(y):\n",
    "    print(x)\n",
    "    print(x + 1)\n",
    "x = 5\n",
    "g(x)\n",
    "print(x)"
   ]
  },
  {
   "cell_type": "code",
   "execution_count": 32,
   "id": "6a57cba3",
   "metadata": {},
   "outputs": [
    {
     "name": "stdout",
     "output_type": "stream",
     "text": [
      "Bark\n",
      "Meow\n"
     ]
    }
   ],
   "source": [
    "#  Simple Inheritance\n",
    "\n",
    "class Animal:\n",
    "    def speak(self):\n",
    "        return \"I make a sound\"\n",
    "\n",
    "class Dog(Animal):\n",
    "    def speak(self):\n",
    "        return \"Bark\"\n",
    "\n",
    "class Cat(Animal):\n",
    "    def speak(self):\n",
    "        return \"Meow\"\n",
    "\n",
    "# Usage\n",
    "dog = Dog()\n",
    "cat = Cat()\n",
    "print(dog.speak())  # Output: Bark\n",
    "print(cat.speak())  # Output: Meow"
   ]
  },
  {
   "cell_type": "code",
   "execution_count": 33,
   "id": "2540c13e",
   "metadata": {},
   "outputs": [
    {
     "name": "stdout",
     "output_type": "stream",
     "text": [
      "Meow\n",
      "Bark\n"
     ]
    }
   ],
   "source": [
    "# Polymorphism\n",
    "class Cat:\n",
    "    def speak(self):\n",
    "        return \"Meow\"\n",
    "\n",
    "class Dog:\n",
    "    def speak(self):\n",
    "        return \"Bark\"\n",
    "\n",
    "def make_sound(animal):\n",
    "    print(animal.speak())\n",
    "\n",
    "make_sound(Cat())  # Meow\n",
    "make_sound(Dog())  # Bark"
   ]
  },
  {
   "cell_type": "code",
   "execution_count": null,
   "id": "dc1e3f93",
   "metadata": {},
   "outputs": [],
   "source": []
  }
 ],
 "metadata": {
  "kernelspec": {
   "display_name": "Python 3 (ipykernel)",
   "language": "python",
   "name": "python3"
  },
  "language_info": {
   "codemirror_mode": {
    "name": "ipython",
    "version": 3
   },
   "file_extension": ".py",
   "mimetype": "text/x-python",
   "name": "python",
   "nbconvert_exporter": "python",
   "pygments_lexer": "ipython3",
   "version": "3.9.12"
  }
 },
 "nbformat": 4,
 "nbformat_minor": 5
}
